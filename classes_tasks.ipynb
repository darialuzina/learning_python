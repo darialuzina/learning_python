{
 "cells": [
  {
   "cell_type": "code",
   "execution_count": 1,
   "id": "6fe78a15-a68b-44d7-ad67-b7514ce4dbaa",
   "metadata": {},
   "outputs": [],
   "source": [
    "from dataclasses import dataclass\n",
    "\n",
    "@dataclass\n",
    "class Triangle:\n",
    "    side1: int\n",
    "    side2: int\n",
    "    side3: int"
   ]
  },
  {
   "cell_type": "code",
   "execution_count": 2,
   "id": "a4a4f322-bae4-469c-90ac-f230314fe4b6",
   "metadata": {},
   "outputs": [],
   "source": [
    "tr_1 = Triangle(2, 3, 4)\n",
    "tr_2 = Triangle(5, 6, 7)"
   ]
  },
  {
   "cell_type": "code",
   "execution_count": 3,
   "id": "06ed0fce-3fb9-42f9-89ec-45a8883bcceb",
   "metadata": {},
   "outputs": [
    {
     "data": {
      "text/plain": [
       "Triangle(side1=2, side2=3, side3=4)"
      ]
     },
     "execution_count": 3,
     "metadata": {},
     "output_type": "execute_result"
    }
   ],
   "source": [
    "tr_1"
   ]
  },
  {
   "cell_type": "code",
   "execution_count": 4,
   "id": "9e61e2cb-33be-4b6e-97f1-eaaf318c2b5f",
   "metadata": {},
   "outputs": [],
   "source": [
    "class NDots:\n",
    "    def __init__(self,int):\n",
    "        self.n_dots = 3"
   ]
  },
  {
   "cell_type": "code",
   "execution_count": 5,
   "id": "66eff800-8a28-4b41-bcef-5945b7cc2c51",
   "metadata": {},
   "outputs": [],
   "source": [
    "class Triangle:\n",
    "    a = ''\n",
    "    b = ''\n",
    "    c = ''\n",
    "    \n",
    "    def __init__(self,a: int, b:int, c: int):\n",
    "        self.a = a\n",
    "        self.b = b\n",
    "        self.c = c\n",
    "    \n",
    "    def n_dots():\n",
    "        self.n_dots = 3\n"
   ]
  },
  {
   "cell_type": "code",
   "execution_count": 6,
   "id": "3feb1c65-69da-43d5-a72c-fadcc6015ffd",
   "metadata": {},
   "outputs": [],
   "source": [
    "tr_1 = Triangle(2, 3, 4)\n",
    "tr_2 = Triangle(5, 6, 7)"
   ]
  },
  {
   "cell_type": "code",
   "execution_count": 8,
   "id": "7a5510c6-f559-4ca1-bb01-b21bc1e98239",
   "metadata": {},
   "outputs": [
    {
     "data": {
      "text/plain": [
       "<bound method Triangle.n_dots of <__main__.Triangle object at 0x7f91446ce7f0>>"
      ]
     },
     "execution_count": 8,
     "metadata": {},
     "output_type": "execute_result"
    }
   ],
   "source": [
    "tr_1.n_dots"
   ]
  },
  {
   "cell_type": "code",
   "execution_count": 30,
   "id": "3e32166e-368f-446d-836d-689c560f8306",
   "metadata": {},
   "outputs": [],
   "source": [
    "class Triangle:\n",
    "    a = ''\n",
    "    b = ''\n",
    "    c = ''\n",
    "    \n",
    "    def __init__(self,a: int, b:int, c: int):\n",
    "        self.a = a\n",
    "        self.b = b\n",
    "        self.c = c\n",
    "    \n",
    "    def n_dots(self):\n",
    "        self.n_dots = 3\n"
   ]
  },
  {
   "cell_type": "code",
   "execution_count": 33,
   "id": "c478cf7d-6278-40e6-9399-8486f72ca5a6",
   "metadata": {},
   "outputs": [
    {
     "data": {
      "text/plain": [
       "3"
      ]
     },
     "execution_count": 33,
     "metadata": {},
     "output_type": "execute_result"
    }
   ],
   "source": [
    "tr_1.n_dots"
   ]
  },
  {
   "cell_type": "code",
   "execution_count": 81,
   "id": "27abb3a4-55a4-4c16-8789-bea60166afb3",
   "metadata": {},
   "outputs": [],
   "source": [
    "class Triangle:\n",
    "    a = ''\n",
    "    b = ''\n",
    "    c = ''\n",
    "    \n",
    "    def __init__(self,a: int, b:int, c: int):\n",
    "        self.a = a\n",
    "        self.b = b\n",
    "        self.c = c\n",
    "        self.p = (a + b + c)/2\n",
    "        if self.a > (self.b+self.c) or self.b > (self.a+self.c) or self.c > (self.a+self.b):\n",
    "            raise ValueError(\"triangle inequality does not hold\")\n",
    "    \n",
    "    def n_dots(self):\n",
    "        self.n_dots = 3\n",
    "        \n",
    "    def area(self):\n",
    "        return (self.p * (self.p - self.a) * (self.p - self.b) * (self.p - self.c)) ** 0.5\n",
    "            \n",
    "    "
   ]
  },
  {
   "cell_type": "code",
   "execution_count": 82,
   "id": "f922c9d5-2c1a-45c8-8777-09f967eed906",
   "metadata": {},
   "outputs": [],
   "source": [
    "tr_1 = Triangle(2, 3, 4)\n",
    "tr_2 = Triangle(5, 6, 7)"
   ]
  },
  {
   "cell_type": "code",
   "execution_count": 83,
   "id": "514a0071-f4db-49b6-98d2-585995df7921",
   "metadata": {},
   "outputs": [],
   "source": [
    "square_1 = tr_1.area()\n",
    "square_2 = tr_2.area()"
   ]
  },
  {
   "cell_type": "markdown",
   "id": "46e9e470-5f8e-46ca-b785-1063ddc767d1",
   "metadata": {},
   "source": [
    "Создайте класс Rectangle (прямоугольник), который будет наследоваться от класса Triangle. Сделайте так, чтобы area(), конструктор и поле n_dots были верными. А именно:\n",
    "\n",
    "Конструктор должен принимать 2 стороны: a, b\n",
    "area() должен считать площадь как произведение смежных сторон: S=ab\n",
    "Неравенство треугольника не нужно проверять.\n",
    "n_dots должен быть объявлен на уровне класса и равняться 4.\n",
    "Отправьте реализацию класса Rectangle в LMS. Класс Triangle отправлять не нужно."
   ]
  },
  {
   "cell_type": "code",
   "execution_count": 131,
   "id": "30980085-f9fe-4702-a9bf-d023a64f8939",
   "metadata": {},
   "outputs": [],
   "source": [
    "class Rectangle(Triangle):\n",
    "    a = ''\n",
    "    b = ''\n",
    "    \n",
    "    n_dots = 4\n",
    "    \n",
    "    def __init__(self,a: int, b:int):\n",
    "        self.a = a\n",
    "        self.b = b\n",
    "\n",
    "\n",
    "        \n",
    "    def area(self):\n",
    "        return self.a * self.b\n",
    "            "
   ]
  },
  {
   "cell_type": "code",
   "execution_count": 132,
   "id": "62224548-00f6-4c3b-b6ba-c5ad9c92869c",
   "metadata": {},
   "outputs": [],
   "source": [
    "r1 = Rectangle(1, 3)"
   ]
  },
  {
   "cell_type": "code",
   "execution_count": 133,
   "id": "d2717881-9438-40c0-818d-b8753e5881b6",
   "metadata": {},
   "outputs": [
    {
     "data": {
      "text/plain": [
       "4"
      ]
     },
     "execution_count": 133,
     "metadata": {},
     "output_type": "execute_result"
    }
   ],
   "source": [
    "r1.n_dots"
   ]
  },
  {
   "cell_type": "code",
   "execution_count": 163,
   "id": "cf35a3e1-6d74-44bb-8f22-04d0ab653e4a",
   "metadata": {},
   "outputs": [],
   "source": [
    "class BaseFigure:\n",
    "    n_dots = None\n",
    "    \n",
    "    def area(self):\n",
    "        raise NotImplementedError()\n",
    "    \n",
    "    def validate(self):\n",
    "        raise NotImplementedError()\n",
    "    \n",
    "    def __init__(self):\n",
    "        self.validate()"
   ]
  },
  {
   "cell_type": "code",
   "execution_count": 192,
   "id": "9503d228-8e24-4fb7-a82c-a68372bd1800",
   "metadata": {},
   "outputs": [],
   "source": [
    "class Triangle(BaseFigure):\n",
    "    a = ''\n",
    "    b = ''\n",
    "    c = ''\n",
    "    \n",
    "    n_dots = 3 \n",
    "    \n",
    "    def area(self):\n",
    "        return (self.p * (self.p - self.a) * (self.p - self.b) * (self.p - self.c)) ** 0.5\n",
    "    \n",
    "    def __init__(self, a: int, b:int, c: int):\n",
    "        self.a = a\n",
    "        self.b = b\n",
    "        self.c = c\n",
    "        self.p = (a + b + c)/2\n",
    "        super().__init__()\n",
    "    \n",
    "    def validate(self):\n",
    "        if self.a > (self.b+self.c) or self.b > (self.a+self.c) or self.c > (self.a+self.b):\n",
    "            raise ValueError(\"triangle inequality does not hold\")      \n",
    "        else:\n",
    "            return (self.a, self.b, self.c)\n",
    "            \n",
    "\n",
    "            \n",
    "class Rectangle(BaseFigure):\n",
    "    a = ''\n",
    "    b = ''\n",
    "    \n",
    "    n_dots = 4\n",
    "    \n",
    "          \n",
    "    def area(self):\n",
    "        return self.a * self.b\n",
    "    \n",
    "    def __init__(self, a: int, b:int):\n",
    "        self.a = a\n",
    "        self.b = b\n",
    "        super().__init__()\n",
    "    \n",
    "    def validate(self):\n",
    "        return (self.a, self.b)\n"
   ]
  },
  {
   "cell_type": "code",
   "execution_count": 193,
   "id": "da4b103d-b540-4cc7-abff-42abd40dac58",
   "metadata": {},
   "outputs": [],
   "source": [
    "tr_1 = Triangle(2,4,3)"
   ]
  },
  {
   "cell_type": "code",
   "execution_count": 194,
   "id": "45df1a1e-a739-43e0-bb77-806156825170",
   "metadata": {},
   "outputs": [],
   "source": [
    "rc_1 = Rectangle(5,6)"
   ]
  },
  {
   "cell_type": "code",
   "execution_count": 196,
   "id": "9b825d81-4e3c-42e2-9099-efc97798f478",
   "metadata": {},
   "outputs": [
    {
     "data": {
      "text/plain": [
       "(5, 6)"
      ]
     },
     "execution_count": 196,
     "metadata": {},
     "output_type": "execute_result"
    }
   ],
   "source": [
    "rc_1.validate()"
   ]
  },
  {
   "cell_type": "code",
   "execution_count": 221,
   "id": "c3f93509-055b-402f-bd16-42e53806d5c5",
   "metadata": {},
   "outputs": [],
   "source": [
    "class Circle(BaseFigure):\n",
    "    r = ''\n",
    "    \n",
    "    n_dots = float('inf')\n",
    "    \n",
    "    def __init__(self, r: int):\n",
    "        self.r = r\n",
    "        super().__init__()\n",
    "    \n",
    "    def area(self):\n",
    "        return 3.14 * (self.r**2)\n",
    "    \n",
    "    def validate(self):\n",
    "        pass\n",
    "        "
   ]
  },
  {
   "cell_type": "markdown",
   "id": "d1837885-95c7-4bff-ac1e-e82d4ac5ffb4",
   "metadata": {},
   "source": [
    "Напишите класс Circle, в котором в качестве n_dots будет float('inf'), area будет считаться как 3.14 * r^2, а конструктор будет принимать только один аргумент - r. Метод validate не должен принимать никаких аргументов и не должен осуществлять никаких проверок."
   ]
  },
  {
   "cell_type": "code",
   "execution_count": 222,
   "id": "b2f46267-df76-49dd-b0fe-ab53d455413b",
   "metadata": {},
   "outputs": [],
   "source": [
    "c1 = Circle(5)"
   ]
  },
  {
   "cell_type": "code",
   "execution_count": 224,
   "id": "397f36fa-3174-4b6c-9ee4-5b059a689ae0",
   "metadata": {},
   "outputs": [],
   "source": [
    "c1.validate()"
   ]
  },
  {
   "cell_type": "code",
   "execution_count": 264,
   "id": "4b51f668-818b-46bd-b7c3-bf3495774351",
   "metadata": {},
   "outputs": [],
   "source": [
    "class Vector:\n",
    "    def __init__(self, coords):\n",
    "        self.coords = coords\n",
    "\n",
    "    def __add__(self, other):\n",
    "        _l, _r = len(self.coords), len(other.coords)\n",
    "        if _l != _r:\n",
    "            raise ValueError(f\"left and right lengths differ: {_l} != {_r}\")\n",
    "        return Vector([\n",
    "            self.coords[i] + other.coords[i]\n",
    "            for i in range(len(self.coords))\n",
    "        ])\n",
    "    def __repr__(self):\n",
    "        return f\"{self.coords}\""
   ]
  },
  {
   "cell_type": "code",
   "execution_count": 265,
   "id": "157cdafb-7db7-41ce-b381-13791faf57f4",
   "metadata": {},
   "outputs": [],
   "source": [
    "sum1 = Vector([1, 2, 3]) + Vector((2, 3, 4))"
   ]
  },
  {
   "cell_type": "code",
   "execution_count": 266,
   "id": "d1940d96-5b91-4299-bb66-29417ba1efb5",
   "metadata": {},
   "outputs": [
    {
     "data": {
      "text/plain": [
       "[3, 5, 7]"
      ]
     },
     "execution_count": 266,
     "metadata": {},
     "output_type": "execute_result"
    }
   ],
   "source": [
    "sum1.coords"
   ]
  },
  {
   "cell_type": "code",
   "execution_count": 267,
   "id": "56f4fe3b-0091-4263-8bbe-415bd08357fa",
   "metadata": {},
   "outputs": [
    {
     "name": "stdout",
     "output_type": "stream",
     "text": [
      "[3, 5, 7]\n"
     ]
    }
   ],
   "source": [
    "print(sum1)"
   ]
  },
  {
   "cell_type": "code",
   "execution_count": 274,
   "id": "f0718510-45cd-4b07-b32f-6e81b6a708f3",
   "metadata": {},
   "outputs": [],
   "source": [
    "class Vector:\n",
    "    def __init__(self, coords):\n",
    "        self.coords = coords\n",
    "\n",
    "    def __add__(self, other):\n",
    "        _l, _r = len(self.coords), len(other.coords)\n",
    "        if _l != _r:\n",
    "            raise ValueError(f\"left and right lengths differ: {_l} != {_r}\")\n",
    "        return Vector([\n",
    "            self.coords[i] + other.coords[i]\n",
    "            for i in range(len(self.coords))\n",
    "        ])\n",
    "    \n",
    "    \n",
    "    def __mul__(self, other):\n",
    "        if isinstance(other, Vector):\n",
    "            _l, _r = len(self.coords), len(other.coords)\n",
    "            if _l != _r:\n",
    "                raise ValueError(f\"left and right lengths differ: {_l} != {_r}\")\n",
    "            else:\n",
    "                result = 0\n",
    "                for i in range(len(self.coords)):\n",
    "                    result += self.coords[i] * other.coords[i]\n",
    "                return result\n",
    "        elif isinstance(other, (int, float)):\n",
    "            return Vector([\n",
    "            self.coords[i] * other\n",
    "            for i in range(len(self.coords))\n",
    "        ])\n",
    "        \n",
    "            \n",
    "    def __repr__(self):\n",
    "        return f\"{self.coords}\""
   ]
  },
  {
   "cell_type": "code",
   "execution_count": 277,
   "id": "0e870846-6634-433f-80ee-3b1b6eeefc67",
   "metadata": {},
   "outputs": [
    {
     "data": {
      "text/plain": [
       "[10, 15, 25, 40]"
      ]
     },
     "execution_count": 277,
     "metadata": {},
     "output_type": "execute_result"
    }
   ],
   "source": [
    "Vector([2, 3, 5, 8]) * 5"
   ]
  },
  {
   "cell_type": "code",
   "execution_count": 280,
   "id": "58a6875d-bf7b-4d44-b74c-26a6aa7e4c08",
   "metadata": {},
   "outputs": [],
   "source": [
    "class Vector:\n",
    "    def __init__(self, coords):\n",
    "        self.coords = coords\n",
    "\n",
    "    def __add__(self, other):\n",
    "        _l, _r = len(self.coords), len(other.coords)\n",
    "        if _l != _r:\n",
    "            raise ValueError(f\"left and right lengths differ: {_l} != {_r}\")\n",
    "        return Vector([\n",
    "            self.coords[i] + other.coords[i]\n",
    "            for i in range(len(self.coords))\n",
    "        ])\n",
    "    \n",
    "    \n",
    "    def __mul__(self, other):\n",
    "        if isinstance(other, Vector):\n",
    "            _l, _r = len(self.coords), len(other.coords)\n",
    "            if _l != _r:\n",
    "                raise ValueError(f\"left and right lengths differ: {_l} != {_r}\")\n",
    "            else:\n",
    "                result = 0\n",
    "                for i in range(len(self.coords)):\n",
    "                    result += self.coords[i] * other.coords[i]\n",
    "                return result\n",
    "        elif isinstance(other, (int, float)):\n",
    "            return Vector([\n",
    "            self.coords[i] * other\n",
    "            for i in range(len(self.coords))\n",
    "        ])\n",
    "        \n",
    "    def __abs__(self):\n",
    "        result = 0\n",
    "        for i in range(len(self.coords)):\n",
    "            result += self.coords[i]**2\n",
    "        return result**0.5\n",
    "    \n",
    "    def __eq__(self, other):\n",
    "        return self.coords == other.coords\n",
    "\n",
    "            \n",
    "    def __repr__(self):\n",
    "        return f\"{self.coords}\""
   ]
  },
  {
   "cell_type": "code",
   "execution_count": 279,
   "id": "71593b32-a0b5-40e7-bf86-44fb6f6c894a",
   "metadata": {},
   "outputs": [
    {
     "data": {
      "text/plain": [
       "13.0"
      ]
     },
     "execution_count": 279,
     "metadata": {},
     "output_type": "execute_result"
    }
   ],
   "source": [
    "abs(Vector([-12, 5]))"
   ]
  },
  {
   "cell_type": "code",
   "execution_count": 281,
   "id": "6fe70acc-81e1-43ef-aea9-e890c55d5542",
   "metadata": {},
   "outputs": [
    {
     "data": {
      "text/plain": [
       "False"
      ]
     },
     "execution_count": 281,
     "metadata": {},
     "output_type": "execute_result"
    }
   ],
   "source": [
    "Vector([1, 3, 5]) == Vector([1])"
   ]
  },
  {
   "cell_type": "code",
   "execution_count": 282,
   "id": "f8176872-b8e5-4873-878e-4ed9d7d679d7",
   "metadata": {},
   "outputs": [
    {
     "data": {
      "text/plain": [
       "False"
      ]
     },
     "execution_count": 282,
     "metadata": {},
     "output_type": "execute_result"
    }
   ],
   "source": [
    "Vector([1, 3, 5]) == Vector([-1, 3, 5])"
   ]
  },
  {
   "cell_type": "code",
   "execution_count": 283,
   "id": "2175c6df-7a96-4479-b759-d8031835223c",
   "metadata": {},
   "outputs": [
    {
     "data": {
      "text/plain": [
       "True"
      ]
     },
     "execution_count": 283,
     "metadata": {},
     "output_type": "execute_result"
    }
   ],
   "source": [
    "Vector([1, 3, 5]) == Vector([1, 3, 5])"
   ]
  },
  {
   "cell_type": "markdown",
   "id": "b3206bec-9077-4e05-bead-e0c4a426ccc2",
   "metadata": {},
   "source": [
    "request = {\n",
    "  \"cookies\": {key_1: value_1, key_2: value_2, ...},\n",
    "  \"body\": \"a long time ago, in a Galaxy far, far away\",\n",
    "  \"headers\": {\"content-type\": \"application/json\", \"Accept\": \"application/json\"}\n",
    "}\n",
    "\n",
    "handler = Handler(request)"
   ]
  },
  {
   "cell_type": "markdown",
   "id": "96b5fa0f-b7cc-4a16-8db9-e0207c8e84e8",
   "metadata": {},
   "source": [
    "Напишите классы ParsesCookies, ParsesBody, ParsesHeaders по условиям:\n",
    "\n",
    "Класс ParsesCookies имеет метод cookies(), возвращающий все по ключу cookies из словаря self.request.\n",
    "Класс ParsesCookies имеет метод is_authed(), который будет проверять, что в словаре cookies будет ключ auth_key (ни в коем случае не используйте такую авторизацию в реальных проектах).\n",
    "Класс ParsesBody имеет метод body(), возвращающий текст по ключу body в self.request.\n",
    "Класс ParsesHeaders имеет метод headers(), возвращающий все по ключу headers из словаря self.request.\n",
    "Класс ParsesHeaders имеет метод need_json(), который возвращает True, если в headers по ключу \"content-type\" лежит значение \"application/json\", иначе False."
   ]
  },
  {
   "cell_type": "code",
   "execution_count": 295,
   "id": "d3218dff-c5ee-4cd6-b229-457c4ea90055",
   "metadata": {},
   "outputs": [],
   "source": [
    "class ParsesCookies:\n",
    "    def cookies(self):\n",
    "        return self.request['cookies']\n",
    "    \n",
    "    def is_authed(self):\n",
    "        return 'auth_key' in self.cookies()\n",
    "    \n",
    "\n",
    "class ParsesBody:\n",
    "    def body(self):\n",
    "        return self.request['body']\n",
    "\n",
    "class ParsesHeaders:\n",
    "    def headers(self):\n",
    "        return self.request['headers']\n",
    "    \n",
    "    def need_json(self):\n",
    "        return self.headers().get('content-type') == 'application/json'\n"
   ]
  },
  {
   "cell_type": "code",
   "execution_count": 288,
   "id": "14a4cdd4-55e9-4c86-b258-e9d8e0f1b6f3",
   "metadata": {},
   "outputs": [],
   "source": [
    "import json\n",
    "\n",
    "class JsonHandler(ParsesBody, ParsesHeaders): #класс JsonHandler, который будет наследоваться от классов ParsesBody и ParsesHeaders \n",
    "    \n",
    "    def __init__(self, request): #конструктор, принимающий аргумент request и сохраняющий в self.request\n",
    "        self.request = request\n",
    "    \n",
    "    def process(self): #Метод process() \n",
    "        if self.need_json() == False:\n",
    "            return None #Если need_json() дает False, то возвращать None\n",
    "        try:\n",
    "            return len(json.loads(self.body()))   #получать тело через body(), пытаться считать его как json.loads(...) \n",
    "        except:\n",
    "            return None # Если считать не удалось, то вернуть None."
   ]
  },
  {
   "cell_type": "markdown",
   "id": "29aa9922-6418-4475-94c9-1d79dfc5e9fd",
   "metadata": {},
   "source": [
    "Используя миксины из прошлого пункта, напишите класс JsonHandler, который будет наследоваться от классов ParsesBody и ParsesHeaders , иметь метод process() и конструктор, принимающий аргумент request и сохраняющий в self.request. В этом задании нужно использовать библиотеку json.\n",
    "\n",
    "Метод process() должен работать следующим образом:\n",
    "\n",
    "Если need_json() дает False, то возвращать None\n",
    "Иначе получать тело через body(), пытаться считать его как json.loads(...) и возвращать число ключей в словаре. Если считать не удалось, то вернуть None.\n",
    "Отправьте реализацию класса JsonHandler в LMS. Классы ParsesBody и ParsesHeaders отправлять не нужно.\n",
    "\n",
    "Обратите внимание, что с помощью миксин функциональность проверки headers и получения body была вынесена за JsonHandler - наш класс сосредоточился именно на обработке.\n",
    "\n",
    "# Пример использования\n",
    "r = {'body': '{\"a\": 123, \"b\": 1234}',\n",
    "     'headers': {'content-type': 'application/json'}\n",
    "    }\n",
    "print(JsonHandler(r).process())\n",
    "\n",
    "\n"
   ]
  },
  {
   "cell_type": "code",
   "execution_count": 289,
   "id": "c85279ce-0bc8-4568-8144-900f12dbf9c6",
   "metadata": {},
   "outputs": [
    {
     "name": "stdout",
     "output_type": "stream",
     "text": [
      "2\n"
     ]
    }
   ],
   "source": [
    "r = {'body': '{\"a\": 123, \"b\": 1234}',\n",
    "     'headers': {'content-type': 'application/json'}\n",
    "    }\n",
    "print(JsonHandler(r).process())"
   ]
  },
  {
   "cell_type": "markdown",
   "id": "86afca0b-2bb9-4e52-8e90-ca7eb2f880b2",
   "metadata": {
    "tags": []
   },
   "source": [
    "Используя миксины из прошлого пункта, напишите класс SecureTextHandler, который будет наследоваться от классов ParsesBody, ParsesHeaders и ParsesCookies , иметь метод process() и конструктор, принимающий один аргумент и сохраняющий его в нужное поле класса.\n",
    "\n",
    "Метод process() должен работать следующим образом:\n",
    "\n",
    "Если is_authed() дает False, то возвращать None.\n",
    "Иначе получать тело через body() и возвращать его длину.\n",
    "Добейтесь работоспособности на примере и реализацию класса SecureTextHandler отправьте в LMS. Классы ParsesBody и ParsesHeaders, ParsesCookie отправлять не нужно.\n",
    "\n",
    "# Примеры\n",
    "r = {'cookies': {'auth_key': '123'},\n",
    "     'body': 'hello'\n",
    "    }\n",
    "print(SecureTextHandler(r).process())\n",
    "# 5\n",
    "\n",
    "r = {'cookies': {},\n",
    "     'body': 'hello'\n",
    "    }\n",
    "print(SecureTextHandler(r).process())\n",
    "# None\n",
    "\n",
    "\n",
    "Обратите внимание, что здесь мы комбинируем другие миксины, чтобы получить другую функциональность без дублирования логики."
   ]
  },
  {
   "cell_type": "code",
   "execution_count": 298,
   "id": "6f76de4d-d4a8-449e-a412-df9d6e5adc46",
   "metadata": {},
   "outputs": [],
   "source": [
    "\n",
    "class SecureTextHandler(ParsesBody, ParsesHeaders, ParsesCookies):\n",
    "    \n",
    "    def __init__(self, request): #конструктор, принимающий один аргумент и сохраняющий его в нужное поле класса.\n",
    "        self.request = request\n",
    "    \n",
    "    def process(self): #Метод process() \n",
    "        if self.is_authed() == False:\n",
    "            return None #is_authed() дает False, то возвращать None\n",
    "        else:\n",
    "            return len(self.body())   #Иначе получать тело через body() и возвращать его длину."
   ]
  },
  {
   "cell_type": "code",
   "execution_count": 299,
   "id": "d898a368-142c-4d30-8973-fefc490ecee3",
   "metadata": {},
   "outputs": [
    {
     "name": "stdout",
     "output_type": "stream",
     "text": [
      "5\n"
     ]
    }
   ],
   "source": [
    "r = {'cookies': {'auth_key': '123'},\n",
    "     'body': 'hello'\n",
    "    }\n",
    "print(SecureTextHandler(r).process())"
   ]
  },
  {
   "cell_type": "code",
   "execution_count": 300,
   "id": "2b164f5c-b4b6-4829-8cfa-fb67224bad22",
   "metadata": {},
   "outputs": [
    {
     "name": "stdout",
     "output_type": "stream",
     "text": [
      "None\n"
     ]
    }
   ],
   "source": [
    "r = {'cookies': {},\n",
    "     'body': 'hello'\n",
    "    }\n",
    "print(SecureTextHandler(r).process())"
   ]
  },
  {
   "cell_type": "code",
   "execution_count": 9,
   "id": "ae8eb378-d9c2-4059-b2b6-ebd0d492c5f8",
   "metadata": {},
   "outputs": [],
   "source": [
    "class Triangle:\n",
    "   a = ''\n",
    "   b = ''\n",
    "   c = ''\n",
    "  \n",
    "   def __init__(self,a: int, b:int, c: int):\n",
    "       self.a = a\n",
    "       self.b = b\n",
    "       self.c = c\n",
    "  \n",
    "   n_dots = 3\n",
    "\n",
    "\n",
    "\n",
    "tr_1 = Triangle(2, 3, 4)\n",
    "tr_2 = Triangle(5, 6, 7)\n"
   ]
  },
  {
   "cell_type": "code",
   "execution_count": 11,
   "id": "87b6cd1b-0141-4690-8f1f-c06dae2a9e8c",
   "metadata": {},
   "outputs": [
    {
     "data": {
      "text/plain": [
       "2"
      ]
     },
     "execution_count": 11,
     "metadata": {},
     "output_type": "execute_result"
    }
   ],
   "source": [
    "tr_1.a\n"
   ]
  },
  {
   "cell_type": "code",
   "execution_count": 18,
   "id": "8248cf4f-a9da-42f8-bb30-f1c7bd430ae1",
   "metadata": {},
   "outputs": [],
   "source": [
    "class Triangle:\n",
    "   a = ''\n",
    "   b = ''\n",
    "   c = ''\n",
    "  \n",
    "   def __init__(self,a: int, b:int, c: int):\n",
    "       self.a = a\n",
    "       self.b = b\n",
    "       self.c = c\n",
    "       self.p = (a + b + c)/2\n",
    "       if self.a >= (self.b+self.c) or self.b >= (self.a+self.c) or self.c >= (self.a+self.b):\n",
    "           raise ValueError(\"triangle inequality does not hold\")\n",
    "  \n",
    "   def n_dots(self):\n",
    "       self.n_dots = 3\n",
    "      \n",
    "   def area(self):\n",
    "       return (self.p * (self.p - self.a) * (self.p - self.b) * (self.p - self.c)) ** 0.5\n",
    "          \n",
    "tr_1 = Triangle(2, 3, 4)\n",
    "tr_2 = Triangle(5, 6, 7)\n",
    "\n",
    "square_1 = tr_1.area()\n",
    "square_2 = tr_2.area()\n"
   ]
  },
  {
   "cell_type": "code",
   "execution_count": 20,
   "id": "af5bc679-f76c-4848-86a7-caedd369c221",
   "metadata": {},
   "outputs": [
    {
     "ename": "ValueError",
     "evalue": "triangle inequality does not hold",
     "output_type": "error",
     "traceback": [
      "\u001b[0;31m---------------------------------------------------------------------------\u001b[0m",
      "\u001b[0;31mValueError\u001b[0m                                Traceback (most recent call last)",
      "Input \u001b[0;32mIn [20]\u001b[0m, in \u001b[0;36m<module>\u001b[0;34m\u001b[0m\n\u001b[0;32m----> 1\u001b[0m tr_3 \u001b[38;5;241m=\u001b[39m \u001b[43mTriangle\u001b[49m\u001b[43m(\u001b[49m\u001b[38;5;241;43m2\u001b[39;49m\u001b[43m,\u001b[49m\u001b[43m \u001b[49m\u001b[38;5;241;43m5\u001b[39;49m\u001b[43m,\u001b[49m\u001b[43m \u001b[49m\u001b[38;5;241;43m3\u001b[39;49m\u001b[43m)\u001b[49m\n",
      "Input \u001b[0;32mIn [18]\u001b[0m, in \u001b[0;36mTriangle.__init__\u001b[0;34m(self, a, b, c)\u001b[0m\n\u001b[1;32m     10\u001b[0m \u001b[38;5;28mself\u001b[39m\u001b[38;5;241m.\u001b[39mp \u001b[38;5;241m=\u001b[39m (a \u001b[38;5;241m+\u001b[39m b \u001b[38;5;241m+\u001b[39m c)\u001b[38;5;241m/\u001b[39m\u001b[38;5;241m2\u001b[39m\n\u001b[1;32m     11\u001b[0m \u001b[38;5;28;01mif\u001b[39;00m \u001b[38;5;28mself\u001b[39m\u001b[38;5;241m.\u001b[39ma \u001b[38;5;241m>\u001b[39m\u001b[38;5;241m=\u001b[39m (\u001b[38;5;28mself\u001b[39m\u001b[38;5;241m.\u001b[39mb\u001b[38;5;241m+\u001b[39m\u001b[38;5;28mself\u001b[39m\u001b[38;5;241m.\u001b[39mc) \u001b[38;5;129;01mor\u001b[39;00m \u001b[38;5;28mself\u001b[39m\u001b[38;5;241m.\u001b[39mb \u001b[38;5;241m>\u001b[39m\u001b[38;5;241m=\u001b[39m (\u001b[38;5;28mself\u001b[39m\u001b[38;5;241m.\u001b[39ma\u001b[38;5;241m+\u001b[39m\u001b[38;5;28mself\u001b[39m\u001b[38;5;241m.\u001b[39mc) \u001b[38;5;129;01mor\u001b[39;00m \u001b[38;5;28mself\u001b[39m\u001b[38;5;241m.\u001b[39mc \u001b[38;5;241m>\u001b[39m\u001b[38;5;241m=\u001b[39m (\u001b[38;5;28mself\u001b[39m\u001b[38;5;241m.\u001b[39ma\u001b[38;5;241m+\u001b[39m\u001b[38;5;28mself\u001b[39m\u001b[38;5;241m.\u001b[39mb):\n\u001b[0;32m---> 12\u001b[0m     \u001b[38;5;28;01mraise\u001b[39;00m \u001b[38;5;167;01mValueError\u001b[39;00m(\u001b[38;5;124m\"\u001b[39m\u001b[38;5;124mtriangle inequality does not hold\u001b[39m\u001b[38;5;124m\"\u001b[39m)\n",
      "\u001b[0;31mValueError\u001b[0m: triangle inequality does not hold"
     ]
    }
   ],
   "source": [
    "tr_3 = Triangle(2, 5, 3)"
   ]
  },
  {
   "cell_type": "code",
   "execution_count": null,
   "id": "df0cba2f-f952-4d17-9fe7-3eade68b429d",
   "metadata": {},
   "outputs": [],
   "source": []
  }
 ],
 "metadata": {
  "kernelspec": {
   "display_name": "Python 3 (ipykernel)",
   "language": "python",
   "name": "python3"
  },
  "language_info": {
   "codemirror_mode": {
    "name": "ipython",
    "version": 3
   },
   "file_extension": ".py",
   "mimetype": "text/x-python",
   "name": "python",
   "nbconvert_exporter": "python",
   "pygments_lexer": "ipython3",
   "version": "3.8.10"
  }
 },
 "nbformat": 4,
 "nbformat_minor": 5
}
